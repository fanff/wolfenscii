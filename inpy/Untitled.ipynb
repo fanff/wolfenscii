{
 "cells": [
  {
   "cell_type": "code",
   "execution_count": 1,
   "id": "3034c571-a33b-48a6-914e-89a5dde09bef",
   "metadata": {},
   "outputs": [],
   "source": [
    "# https://www.jeffreythompson.org/collision-detection/table_of_contents.php"
   ]
  },
  {
   "cell_type": "code",
   "execution_count": null,
   "id": "7c014408-5edf-4a8d-b8a3-e7bdd916dded",
   "metadata": {},
   "outputs": [],
   "source": [
    "# https://www.jeffreythompson.org/collision-detection/line-line.php"
   ]
  },
  {
   "cell_type": "code",
   "execution_count": 4,
   "id": "f6b37e09-a942-42f8-8e95-7e0f2a7a18ee",
   "metadata": {},
   "outputs": [],
   "source": [
    "\n",
    "x1 = 0    # line controlled by mouse\n",
    "y1 = 0\n",
    "x2 = 10   # fixed end\n",
    "y2 = 10\n",
    "\n",
    "x3 = 100;  # static line\n",
    "y3 = 300;\n",
    "x4 = 500;\n",
    "y4 = 100;\n",
    "\n",
    "\n",
    "\n",
    "\n",
    "uA = ((x4-x3)*(y1-y3) - (y4-y3)*(x1-x3)) / ((y4-y3)*(x2-x1) - (x4-x3)*(y2-y1));\n",
    "\n",
    "uB = ((x2-x1)*(y1-y3) - (y2-y1)*(x1-x3)) / ((y4-y3)*(x2-x1) - (x4-x3)*(y2-y1));\n",
    "\n",
    "\n",
    "\n"
   ]
  },
  {
   "cell_type": "code",
   "execution_count": 7,
   "id": "3bf4ec9b-a0bb-4410-a15d-9df6c8eb1b85",
   "metadata": {},
   "outputs": [
    {
     "data": {
      "text/plain": [
       "(23.333333333333332, 0.3333333333333333)"
      ]
     },
     "execution_count": 7,
     "metadata": {},
     "output_type": "execute_result"
    }
   ],
   "source": [
    "uA,uB"
   ]
  },
  {
   "cell_type": "code",
   "execution_count": 10,
   "id": "deef6bda-94fb-4004-bae7-a450002a6d0c",
   "metadata": {},
   "outputs": [
    {
     "name": "stderr",
     "output_type": "stream",
     "text": [
      "2022-05-06 00:22:07.968569: W tensorflow/stream_executor/platform/default/dso_loader.cc:64] Could not load dynamic library 'libcudart.so.11.0'; dlerror: libcudart.so.11.0: cannot open shared object file: No such file or directory\n",
      "2022-05-06 00:22:07.968589: I tensorflow/stream_executor/cuda/cudart_stub.cc:29] Ignore above cudart dlerror if you do not have a GPU set up on your machine.\n"
     ]
    }
   ],
   "source": [
    "import numpy as np\n",
    "import keras\n",
    "from keras.layers import Lambda\n",
    "\n",
    "\n",
    "p_pos = np.array([10,40])\n",
    "p_dir = np.array([0.,1.])"
   ]
  },
  {
   "cell_type": "code",
   "execution_count": 154,
   "id": "07e15b8c-af96-4790-a713-fc8b2979578b",
   "metadata": {},
   "outputs": [],
   "source": [
    "input_p = keras.layers.Input(shape=(8),batch_size=2)\n",
    "\n",
    "#mid = keras.layers.Activation(keras.activations.backend.cos)(input_p)\n",
    "#mid = input_p[0][0]-input_p[0][1]\n",
    "\n",
    "outputs=[]\n",
    "\n",
    "for pairidx,pair in enumerate(input_p):\n",
    "    \n",
    "    x1 = input_p[pairidx][0]   # line controlled by mouse\n",
    "    y1 = input_p[pairidx][1]\n",
    "    x2 = input_p[pairidx][2]   # fixed end\n",
    "    y2 = input_p[pairidx][3]\n",
    "\n",
    "    x3 = input_p[pairidx][4] # static line\n",
    "    y3 = input_p[pairidx][5]\n",
    "    x4 = input_p[pairidx][6]\n",
    "    y4 = input_p[pairidx][7]\n",
    "\n",
    "\n",
    "\n",
    "    uA = ((x4-x3)*(y1-y3) - (y4-y3)*(x1-x3)) / ((y4-y3)*(x2-x1) - (x4-x3)*(y2-y1));\n",
    "\n",
    "    uB = ((x2-x1)*(y1-y3) - (y2-y1)*(x1-x3)) / ((y4-y3)*(x2-x1) - (x4-x3)*(y2-y1));\n",
    "    outputs.append(keras.backend.stack([uA,uB]))\n",
    "    \n",
    "\n",
    "\n",
    "outs = keras.layers.concatenate(outputs)\n",
    "\n",
    "m = keras.Model(inputs=input_p, outputs=outs)"
   ]
  },
  {
   "cell_type": "code",
   "execution_count": 151,
   "id": "1eb71191-3bfc-460e-8aa9-7b1e2cd08186",
   "metadata": {},
   "outputs": [
    {
     "data": {
      "text/plain": [
       "TensorShape([])"
      ]
     },
     "execution_count": 151,
     "metadata": {},
     "output_type": "execute_result"
    }
   ],
   "source": [
    "mid.shape"
   ]
  },
  {
   "cell_type": "code",
   "execution_count": 246,
   "id": "41fd0c25-2801-48f9-a0ae-d9979bc97cf1",
   "metadata": {},
   "outputs": [
    {
     "ename": "ValueError",
     "evalue": "Exception encountered when calling layer \"tf.__operators__.getitem_1807\" (type SlicingOpLambda).\n\nslice index 2 of dimension 0 out of bounds. for '{{node tf.__operators__.getitem_1807/strided_slice}} = StridedSlice[Index=DT_INT32, T=DT_FLOAT, begin_mask=0, ellipsis_mask=0, end_mask=0, new_axis_mask=0, shrink_axis_mask=1](Placeholder, tf.__operators__.getitem_1807/strided_slice/stack, tf.__operators__.getitem_1807/strided_slice/stack_1, tf.__operators__.getitem_1807/strided_slice/stack_2)' with input shapes: [2,2], [1], [1], [1] and with computed input tensors: input[1] = <2>, input[2] = <3>, input[3] = <1>.\n\nCall arguments received:\n  • tensor=tf.Tensor(shape=(2, 2), dtype=float32)\n  • slice_spec=2\n  • var=None",
     "output_type": "error",
     "traceback": [
      "\u001b[0;31m---------------------------------------------------------------------------\u001b[0m",
      "\u001b[0;31mValueError\u001b[0m                                Traceback (most recent call last)",
      "Input \u001b[0;32mIn [246]\u001b[0m, in \u001b[0;36m<cell line: 2>\u001b[0;34m()\u001b[0m\n\u001b[1;32m      1\u001b[0m input_p \u001b[38;5;241m=\u001b[39m keras\u001b[38;5;241m.\u001b[39mlayers\u001b[38;5;241m.\u001b[39mInput(shape\u001b[38;5;241m=\u001b[39m(\u001b[38;5;241m2\u001b[39m,\u001b[38;5;241m2\u001b[39m),batch_size\u001b[38;5;241m=\u001b[39m\u001b[38;5;241m1\u001b[39m)\n\u001b[0;32m----> 2\u001b[0m \u001b[43minput_p\u001b[49m\u001b[43m[\u001b[49m\u001b[38;5;241;43m0\u001b[39;49m\u001b[43m]\u001b[49m\u001b[43m[\u001b[49m\u001b[38;5;241;43m2\u001b[39;49m\u001b[43m]\u001b[49m\n",
      "File \u001b[0;32m~/PycharmProjects/wolfenscii/venv/lib64/python3.10/site-packages/tensorflow/python/util/traceback_utils.py:153\u001b[0m, in \u001b[0;36mfilter_traceback.<locals>.error_handler\u001b[0;34m(*args, **kwargs)\u001b[0m\n\u001b[1;32m    151\u001b[0m \u001b[38;5;28;01mexcept\u001b[39;00m \u001b[38;5;167;01mException\u001b[39;00m \u001b[38;5;28;01mas\u001b[39;00m e:\n\u001b[1;32m    152\u001b[0m   filtered_tb \u001b[38;5;241m=\u001b[39m _process_traceback_frames(e\u001b[38;5;241m.\u001b[39m__traceback__)\n\u001b[0;32m--> 153\u001b[0m   \u001b[38;5;28;01mraise\u001b[39;00m e\u001b[38;5;241m.\u001b[39mwith_traceback(filtered_tb) \u001b[38;5;28;01mfrom\u001b[39;00m \u001b[38;5;28mNone\u001b[39m\n\u001b[1;32m    154\u001b[0m \u001b[38;5;28;01mfinally\u001b[39;00m:\n\u001b[1;32m    155\u001b[0m   \u001b[38;5;28;01mdel\u001b[39;00m filtered_tb\n",
      "File \u001b[0;32m~/PycharmProjects/wolfenscii/venv/lib/python3.10/site-packages/keras/layers/core/tf_op_layer.py:534\u001b[0m, in \u001b[0;36mTFSlicingOpDispatcher.handle\u001b[0;34m(self, args, kwargs)\u001b[0m\n\u001b[1;32m    530\u001b[0m kwargs \u001b[38;5;241m=\u001b[39m tf\u001b[38;5;241m.\u001b[39mnest\u001b[38;5;241m.\u001b[39mmap_structure(_slice_to_dict, kwargs)\n\u001b[1;32m    531\u001b[0m \u001b[38;5;28;01mif\u001b[39;00m \u001b[38;5;28many\u001b[39m(\n\u001b[1;32m    532\u001b[0m     \u001b[38;5;28misinstance\u001b[39m(x, keras_tensor\u001b[38;5;241m.\u001b[39mKerasTensor)\n\u001b[1;32m    533\u001b[0m     \u001b[38;5;28;01mfor\u001b[39;00m x \u001b[38;5;129;01min\u001b[39;00m tf\u001b[38;5;241m.\u001b[39mnest\u001b[38;5;241m.\u001b[39mflatten([args, kwargs])):\n\u001b[0;32m--> 534\u001b[0m   \u001b[38;5;28;01mreturn\u001b[39;00m \u001b[43mSlicingOpLambda\u001b[49m\u001b[43m(\u001b[49m\u001b[38;5;28;43mself\u001b[39;49m\u001b[38;5;241;43m.\u001b[39;49m\u001b[43mop\u001b[49m\u001b[43m)\u001b[49m\u001b[43m(\u001b[49m\u001b[38;5;241;43m*\u001b[39;49m\u001b[43margs\u001b[49m\u001b[43m,\u001b[49m\u001b[43m \u001b[49m\u001b[38;5;241;43m*\u001b[39;49m\u001b[38;5;241;43m*\u001b[39;49m\u001b[43mkwargs\u001b[49m\u001b[43m)\u001b[49m\n\u001b[1;32m    535\u001b[0m \u001b[38;5;28;01melse\u001b[39;00m:\n\u001b[1;32m    536\u001b[0m   \u001b[38;5;28;01mreturn\u001b[39;00m \u001b[38;5;28mself\u001b[39m\u001b[38;5;241m.\u001b[39mNOT_SUPPORTED\n",
      "File \u001b[0;32m~/PycharmProjects/wolfenscii/venv/lib/python3.10/site-packages/keras/utils/traceback_utils.py:67\u001b[0m, in \u001b[0;36mfilter_traceback.<locals>.error_handler\u001b[0;34m(*args, **kwargs)\u001b[0m\n\u001b[1;32m     65\u001b[0m \u001b[38;5;28;01mexcept\u001b[39;00m \u001b[38;5;167;01mException\u001b[39;00m \u001b[38;5;28;01mas\u001b[39;00m e:  \u001b[38;5;66;03m# pylint: disable=broad-except\u001b[39;00m\n\u001b[1;32m     66\u001b[0m   filtered_tb \u001b[38;5;241m=\u001b[39m _process_traceback_frames(e\u001b[38;5;241m.\u001b[39m__traceback__)\n\u001b[0;32m---> 67\u001b[0m   \u001b[38;5;28;01mraise\u001b[39;00m e\u001b[38;5;241m.\u001b[39mwith_traceback(filtered_tb) \u001b[38;5;28;01mfrom\u001b[39;00m \u001b[38;5;28mNone\u001b[39m\n\u001b[1;32m     68\u001b[0m \u001b[38;5;28;01mfinally\u001b[39;00m:\n\u001b[1;32m     69\u001b[0m   \u001b[38;5;28;01mdel\u001b[39;00m filtered_tb\n",
      "\u001b[0;31mValueError\u001b[0m: Exception encountered when calling layer \"tf.__operators__.getitem_1807\" (type SlicingOpLambda).\n\nslice index 2 of dimension 0 out of bounds. for '{{node tf.__operators__.getitem_1807/strided_slice}} = StridedSlice[Index=DT_INT32, T=DT_FLOAT, begin_mask=0, ellipsis_mask=0, end_mask=0, new_axis_mask=0, shrink_axis_mask=1](Placeholder, tf.__operators__.getitem_1807/strided_slice/stack, tf.__operators__.getitem_1807/strided_slice/stack_1, tf.__operators__.getitem_1807/strided_slice/stack_2)' with input shapes: [2,2], [1], [1], [1] and with computed input tensors: input[1] = <2>, input[2] = <3>, input[3] = <1>.\n\nCall arguments received:\n  • tensor=tf.Tensor(shape=(2, 2), dtype=float32)\n  • slice_spec=2\n  • var=None"
     ]
    }
   ],
   "source": []
  },
  {
   "cell_type": "code",
   "execution_count": 289,
   "id": "dde9c2fb-5b90-42de-9050-d5b568902ede",
   "metadata": {},
   "outputs": [],
   "source": [
    "input_p = keras.layers.Input(shape=(2,2),batch_size=1)\n",
    "\n",
    "\n",
    "\n",
    "\n",
    "n_pos = input_p[0][0]\n",
    "n_dir = input_p[0][1]\n",
    "\n",
    "n_dir = n_dir * 100\n",
    "end_dir = n_pos + n_dir\n",
    "\n",
    "\n",
    "first_half = keras.backend.stack([ [n_pos,end_dir] ])\n",
    "#first_half = keras.layers.Concatenate([n_pos,end_dir,])\n",
    "first_half = keras.layers.Reshape((1,4,))(first_half)\n",
    "\n",
    "m = keras.Model(inputs=input_p, outputs= first_half)\n",
    "\n"
   ]
  },
  {
   "cell_type": "code",
   "execution_count": 290,
   "id": "140ee7ac-4bce-4335-a260-9418df34a0c0",
   "metadata": {},
   "outputs": [
    {
     "data": {
      "text/plain": [
       "<KerasTensor: shape=(2,) dtype=float32 (created by layer 'tf.__operators__.getitem_1909')>"
      ]
     },
     "execution_count": 290,
     "metadata": {},
     "output_type": "execute_result"
    }
   ],
   "source": [
    "n_pos"
   ]
  },
  {
   "cell_type": "code",
   "execution_count": 291,
   "id": "8a3d5fb6-097d-4081-8f37-d35b1681038e",
   "metadata": {},
   "outputs": [
    {
     "data": {
      "text/plain": [
       "array([[[ 10.,  40.,  10., 140.]]], dtype=float32)"
      ]
     },
     "execution_count": 291,
     "metadata": {},
     "output_type": "execute_result"
    }
   ],
   "source": [
    "p_pos = np.array([10,40])\n",
    "p_dir = np.array([0.,1.])\n",
    "\n",
    "\n",
    "m.predict(np.array([[p_pos,p_dir]]))"
   ]
  },
  {
   "cell_type": "code",
   "execution_count": null,
   "id": "a980cc28-43f7-4a61-a2ea-b96570a26e7f",
   "metadata": {},
   "outputs": [],
   "source": [
    "[0,50,100,50]"
   ]
  },
  {
   "cell_type": "code",
   "execution_count": 152,
   "id": "65e0e868-bb1b-4486-bdcf-fe4f3646984d",
   "metadata": {},
   "outputs": [
    {
     "data": {
      "text/plain": [
       "array([0.7, 0.5, 0.7, 0.5], dtype=float32)"
      ]
     },
     "execution_count": 152,
     "metadata": {},
     "output_type": "execute_result"
    }
   ],
   "source": [
    "m.predict(np.array([[0,50,100,50, 70,100,70,0],[0,50,100,50, 70,100,70,0]]))"
   ]
  },
  {
   "cell_type": "code",
   "execution_count": null,
   "id": "18a38c56-1298-4290-8520-9a7afafb0cae",
   "metadata": {},
   "outputs": [],
   "source": []
  },
  {
   "cell_type": "code",
   "execution_count": null,
   "id": "8fc6052d-13ee-4ca9-9055-8827cb405162",
   "metadata": {},
   "outputs": [],
   "source": []
  }
 ],
 "metadata": {
  "kernelspec": {
   "display_name": "Python 3 (ipykernel)",
   "language": "python",
   "name": "python3"
  },
  "language_info": {
   "codemirror_mode": {
    "name": "ipython",
    "version": 3
   },
   "file_extension": ".py",
   "mimetype": "text/x-python",
   "name": "python",
   "nbconvert_exporter": "python",
   "pygments_lexer": "ipython3",
   "version": "3.10.4"
  }
 },
 "nbformat": 4,
 "nbformat_minor": 5
}
