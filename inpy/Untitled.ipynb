{
 "cells": [
  {
   "cell_type": "code",
   "execution_count": 2,
   "id": "3034c571-a33b-48a6-914e-89a5dde09bef",
   "metadata": {},
   "outputs": [],
   "source": [
    "# https://www.jeffreythompson.org/collision-detection/table_of_contents.php"
   ]
  },
  {
   "cell_type": "code",
   "execution_count": 3,
   "id": "7c014408-5edf-4a8d-b8a3-e7bdd916dded",
   "metadata": {},
   "outputs": [],
   "source": [
    "# https://www.jeffreythompson.org/collision-detection/line-line.php"
   ]
  },
  {
   "cell_type": "code",
   "execution_count": 4,
   "id": "f6b37e09-a942-42f8-8e95-7e0f2a7a18ee",
   "metadata": {},
   "outputs": [],
   "source": [
    "\n",
    "x1 = 0    # line controlled by mouse\n",
    "y1 = 0\n",
    "x2 = 10   # fixed end\n",
    "y2 = 10\n",
    "\n",
    "x3 = 100;  # static line\n",
    "y3 = 300;\n",
    "x4 = 500;\n",
    "y4 = 100;\n",
    "\n",
    "\n",
    "\n",
    "\n",
    "uA = ((x4-x3)*(y1-y3) - (y4-y3)*(x1-x3)) / ((y4-y3)*(x2-x1) - (x4-x3)*(y2-y1));\n",
    "\n",
    "uB = ((x2-x1)*(y1-y3) - (y2-y1)*(x1-x3)) / ((y4-y3)*(x2-x1) - (x4-x3)*(y2-y1));\n",
    "\n",
    "\n",
    "\n"
   ]
  },
  {
   "cell_type": "code",
   "execution_count": 5,
   "id": "3bf4ec9b-a0bb-4410-a15d-9df6c8eb1b85",
   "metadata": {},
   "outputs": [
    {
     "data": {
      "text/plain": [
       "(23.333333333333332, 0.3333333333333333)"
      ]
     },
     "execution_count": 5,
     "metadata": {},
     "output_type": "execute_result"
    }
   ],
   "source": [
    "uA,uB"
   ]
  },
  {
   "cell_type": "code",
   "execution_count": 29,
   "id": "deef6bda-94fb-4004-bae7-a450002a6d0c",
   "metadata": {},
   "outputs": [],
   "source": [
    "import numpy as np\n",
    "import keras\n",
    "from keras.layers import Lambda\n",
    "import tensorflow as tf\n"
   ]
  },
  {
   "cell_type": "code",
   "execution_count": 7,
   "id": "07e15b8c-af96-4790-a713-fc8b2979578b",
   "metadata": {},
   "outputs": [],
   "source": []
  },
  {
   "cell_type": "code",
   "execution_count": null,
   "id": "1eb71191-3bfc-460e-8aa9-7b1e2cd08186",
   "metadata": {},
   "outputs": [],
   "source": []
  },
  {
   "cell_type": "code",
   "execution_count": null,
   "id": "41fd0c25-2801-48f9-a0ae-d9979bc97cf1",
   "metadata": {},
   "outputs": [],
   "source": []
  },
  {
   "cell_type": "code",
   "execution_count": 221,
   "id": "dde9c2fb-5b90-42de-9050-d5b568902ede",
   "metadata": {},
   "outputs": [],
   "source": [
    "fov = 30* ((2*np.pi)/360.0)\n",
    "ray_count = 4\n",
    "\n",
    "p_pos = np.array([10,50])\n",
    "p_dir = np.array([1.,0.])\n",
    "\n",
    "walls = tf.stack([[[70,0,70,100],\n",
    "                   [80,0,50,100]]]) \n",
    "walls_count = len(walls[0])\n",
    "\n",
    "\n",
    "\n",
    "\n",
    "# ray generator\n",
    "input_p = keras.layers.Input(shape=(2,2),batch_size=1)\n",
    "\n",
    "n_pos = input_p[0][0]\n",
    "n_dir = input_p[0][1]\n",
    "\n",
    "\n",
    "allvect = []\n",
    "\n",
    "\n",
    "for ray_id in range(-ray_count//2,ray_count//2):\n",
    "\n",
    "    angle = ((ray_id/ray_count))*fov \n",
    "    rotation_matrix = tf.stack([(tf.cos(angle), -tf.sin(angle)), (tf.sin(angle), tf.cos(angle))], axis=0)\n",
    "       \n",
    "    n_dir_rot = tf.matmul(tf.reshape(n_dir,(1,2)), rotation_matrix)\n",
    "    n_dir_rot = tf.reshape(n_dir_rot,(2,) ) *100\n",
    "    \n",
    "    end_dir = n_pos + n_dir_rot\n",
    "    allvect.append( [n_pos,end_dir])\n",
    "    \n",
    "\n",
    "first_half = keras.backend.stack(allvect)\n",
    "#first_half = keras.layers.Concatenate([n_pos,end_dir,])\n",
    "#first_half = keras.layers.Reshape((ray_count,4,))(first_half)\n",
    "\n",
    "ray_gen = keras.Model(inputs=input_p, outputs= tf.reshape(first_half,(1,ray_count,4)))\n",
    "\n"
   ]
  },
  {
   "cell_type": "code",
   "execution_count": null,
   "id": "b2931295-f7f8-4f92-8fca-3371269b64f6",
   "metadata": {},
   "outputs": [],
   "source": []
  },
  {
   "cell_type": "code",
   "execution_count": null,
   "id": "140ee7ac-4bce-4335-a260-9418df34a0c0",
   "metadata": {},
   "outputs": [],
   "source": []
  },
  {
   "cell_type": "code",
   "execution_count": 222,
   "id": "8a3d5fb6-097d-4081-8f37-d35b1681038e",
   "metadata": {},
   "outputs": [],
   "source": [
    "\n",
    "\n",
    "\n",
    "rays = ray_gen.predict(np.array([[p_pos,p_dir]]))"
   ]
  },
  {
   "cell_type": "code",
   "execution_count": 223,
   "id": "a980cc28-43f7-4a61-a2ea-b96570a26e7f",
   "metadata": {},
   "outputs": [
    {
     "data": {
      "text/plain": [
       "array([[[ 10.      ,  50.      , 106.59258 ,  75.881905],\n",
       "        [ 10.      ,  50.      , 109.144485,  63.05262 ],\n",
       "        [ 10.      ,  50.      , 110.      ,  50.      ],\n",
       "        [ 10.      ,  50.      , 109.144485,  36.94738 ]]], dtype=float32)"
      ]
     },
     "execution_count": 223,
     "metadata": {},
     "output_type": "execute_result"
    }
   ],
   "source": [
    "rays"
   ]
  },
  {
   "cell_type": "code",
   "execution_count": null,
   "id": "65e0e868-bb1b-4486-bdcf-fe4f3646984d",
   "metadata": {},
   "outputs": [],
   "source": []
  },
  {
   "cell_type": "code",
   "execution_count": 231,
   "id": "18a38c56-1298-4290-8520-9a7afafb0cae",
   "metadata": {},
   "outputs": [],
   "source": [
    "input_rays = keras.layers.Input(shape=(ray_count,4),batch_size=1)\n",
    "input_walls = keras.layers.Input(shape=(walls_count,4),batch_size=1)\n",
    "\n",
    "#mid = keras.layers.Activation(keras.activations.backend.cos)(input_p)\n",
    "#mid = input_p[0][0]-input_p[0][1]\n",
    "\n",
    "outputs=[]\n",
    "outidx = []\n",
    "for ridx,ray in enumerate(input_rays[0]):\n",
    "    \n",
    "    x1 = ray[0]\n",
    "    y1 = ray[1]\n",
    "    x2 = ray[2]\n",
    "    y2 = ray[3]\n",
    "    \n",
    "    for widx,wall in enumerate(input_walls[0]):\n",
    "        \n",
    "\n",
    "        x3 = wall[0]\n",
    "        y3 = wall[1]\n",
    "        x4 = wall[2]\n",
    "        y4 = wall[3]\n",
    "\n",
    "        uA = ((x4-x3)*(y1-y3) - (y4-y3)*(x1-x3)) / ((y4-y3)*(x2-x1) - (x4-x3)*(y2-y1));\n",
    "        uB = ((x2-x1)*(y1-y3) - (y2-y1)*(x1-x3)) / ((y4-y3)*(x2-x1) - (x4-x3)*(y2-y1));\n",
    "        \n",
    "        \n",
    "        outputs.append([uA,uB])\n",
    "        \n",
    "        outidx.append([ridx,widx])\n",
    "\n",
    "    \n",
    "\n",
    "outputs = keras.backend.stack(outputs)\n",
    "outidx = keras.backend.stack(outidx)\n",
    "outputs = tf.reshape(outputs,(ray_count,walls_count,2))\n",
    "#\n",
    "m = keras.Model(inputs=(input_rays,input_walls), outputs=outputs)"
   ]
  },
  {
   "cell_type": "code",
   "execution_count": 232,
   "id": "14ff26b6-f95c-4d4c-beae-b5024d4c35a9",
   "metadata": {},
   "outputs": [
    {
     "data": {
      "text/plain": [
       "(1, 12, 4)"
      ]
     },
     "execution_count": 232,
     "metadata": {},
     "output_type": "execute_result"
    }
   ],
   "source": [
    "vecs.shape"
   ]
  },
  {
   "cell_type": "code",
   "execution_count": 239,
   "id": "8fc6052d-13ee-4ca9-9055-8827cb405162",
   "metadata": {},
   "outputs": [
    {
     "data": {
      "text/plain": [
       "<tf.Tensor: shape=(4, 2, 2), dtype=float32, numpy=\n",
       "array([[[0.62116575, 0.6607695 ],\n",
       "        [0.52703625, 0.636407  ]],\n",
       "\n",
       "       [[0.6051774 , 0.57899153],\n",
       "        [0.5336683 , 0.5696577 ]],\n",
       "\n",
       "       [[0.6       , 0.5       ],\n",
       "        [0.55      , 0.5       ]],\n",
       "\n",
       "       [[0.6051774 , 0.4210085 ],\n",
       "        [0.577557  , 0.4246137 ]]], dtype=float32)>"
      ]
     },
     "execution_count": 239,
     "metadata": {},
     "output_type": "execute_result"
    }
   ],
   "source": [
    "\n",
    "rays = ray_gen.predict(np.array([[p_pos,p_dir]]))\n",
    "\n",
    "# ray_count,walls_count,2\n",
    "colis = m.predict((rays,walls))\n"
   ]
  },
  {
   "cell_type": "code",
   "execution_count": null,
   "id": "aa9e7a22-7757-4f96-897c-5a6c926f1f04",
   "metadata": {},
   "outputs": [],
   "source": []
  },
  {
   "cell_type": "code",
   "execution_count": 258,
   "id": "8d958894-ee21-4dc3-8ed1-fca35f85419d",
   "metadata": {},
   "outputs": [
    {
     "data": {
      "text/plain": [
       "array([[0.6051774 , 0.57899153],\n",
       "       [0.5336683 , 0.5696577 ]], dtype=float32)"
      ]
     },
     "execution_count": 258,
     "metadata": {},
     "output_type": "execute_result"
    }
   ],
   "source": [
    "colis[1]"
   ]
  },
  {
   "cell_type": "code",
   "execution_count": 259,
   "id": "e57ae515-387c-42e6-92af-52a81bb00840",
   "metadata": {},
   "outputs": [
    {
     "data": {
      "text/plain": [
       "array([1, 1], dtype=int64)"
      ]
     },
     "execution_count": 259,
     "metadata": {},
     "output_type": "execute_result"
    }
   ],
   "source": [
    "np.argmin(colis[1],axis=0)"
   ]
  },
  {
   "cell_type": "code",
   "execution_count": 262,
   "id": "fe70a5d9-e726-415a-ada2-ca6d380ff842",
   "metadata": {},
   "outputs": [
    {
     "data": {
      "text/plain": [
       "<tf.Tensor: shape=(4, 2), dtype=int64, numpy=\n",
       "array([[1, 1],\n",
       "       [1, 1],\n",
       "       [1, 0],\n",
       "       [1, 0]], dtype=int64)>"
      ]
     },
     "execution_count": 262,
     "metadata": {},
     "output_type": "execute_result"
    }
   ],
   "source": [
    "tf.argmin(colis,axis=1)"
   ]
  },
  {
   "cell_type": "code",
   "execution_count": 238,
   "id": "e6cb5b21-ed42-4af6-a230-e12d13b86aba",
   "metadata": {},
   "outputs": [
    {
     "data": {
      "text/plain": [
       "array([[[0.62116575, 0.6607695 ],\n",
       "        [0.52703625, 0.636407  ]],\n",
       "\n",
       "       [[0.6051774 , 0.57899153],\n",
       "        [0.5336683 , 0.5696577 ]],\n",
       "\n",
       "       [[0.6       , 0.5       ],\n",
       "        [0.55      , 0.5       ]],\n",
       "\n",
       "       [[0.6051774 , 0.4210085 ],\n",
       "        [0.577557  , 0.4246137 ]]], dtype=float32)"
      ]
     },
     "execution_count": 238,
     "metadata": {},
     "output_type": "execute_result"
    }
   ],
   "source": [
    "colis"
   ]
  }
 ],
 "metadata": {
  "kernelspec": {
   "display_name": "Python 3 (ipykernel)",
   "language": "python",
   "name": "python3"
  },
  "language_info": {
   "codemirror_mode": {
    "name": "ipython",
    "version": 3
   },
   "file_extension": ".py",
   "mimetype": "text/x-python",
   "name": "python",
   "nbconvert_exporter": "python",
   "pygments_lexer": "ipython3",
   "version": "3.10.4"
  }
 },
 "nbformat": 4,
 "nbformat_minor": 5
}
